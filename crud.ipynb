{
 "cells": [
  {
   "cell_type": "code",
   "execution_count": null,
   "metadata": {},
   "outputs": [],
   "source": []
  },
  {
   "cell_type": "code",
   "execution_count": 140,
   "metadata": {},
   "outputs": [],
   "source": [
    "class Task():\n",
    "\n",
    "    def __init__(self, id_task = \"default\", dt_created = \"yyyy-mm-dd\", title = \"title\", task_description = \"description\", dt_deliver = \"yyyy-mm-dd\"):\n",
    "\n",
    "        self.__id_task = id_task\n",
    "        self._dt_created = dt_created\n",
    "        self._title = title\n",
    "        self._task_description = task_description\n",
    "        self._dt_deliver = dt_deliver\n",
    "\n",
    "    def getTask(self):\n",
    "        listagem = [f'id_task: {self.__id_task}', \n",
    "                    f'dt_created: {self._dt_created}', \n",
    "                    f'title: {self._title}', \n",
    "                    f'task_description: {self._task_description}', \n",
    "                    f'dt_deliver: {self._dt_deliver}']\n",
    "        return listagem\n",
    "\n",
    "    def setDate(self, date):\n",
    "        self._dt_created = date\n",
    "    \n",
    "    def setTitle(self, text):\n",
    "        self._title = text\n",
    "    \n",
    "    def setTaskDescription(self, description):\n",
    "        self._task_description = description\n",
    "    \n",
    "    def setDeliverDate(self, date):\n",
    "        self._dt_deliver = date\n",
    "    \n",
    "    def setId(self, id):\n",
    "        self.__id_task = id\n",
    "    \n",
    "    def getTaskId(self):\n",
    "        return self.__id_task\n",
    "    \n",
    "    \n",
    "    \n",
    "    def __str__(self):\n",
    "        return f'{self.__id_task}, {self._dt_created}, {self._title}, {self._task_description}, {self._dt_deliver}'\n",
    "    \n",
    "    \n",
    "\n",
    "\n",
    "\n",
    "class Data():\n",
    "    def __init__(self):\n",
    "        self._tasks = {}\n",
    "    \n",
    "    def addTask(self, task):\n",
    "        self._tasks[task.getTaskId()] = task\n",
    "    \n",
    "    def getData(self):\n",
    "        return self._tasks\n",
    "    \n",
    "    def existId(self, id):\n",
    "        isKey = False\n",
    "        for key in self._tasks.keys():\n",
    "            if id == key:\n",
    "                isKey = True\n",
    "                break\n",
    "        return isKey\n",
    "\n",
    "    def getTaskById(self, id):\n",
    "\n",
    "        if self.existId(id):\n",
    "            return self._tasks[id]\n",
    "        else:\n",
    "            print('Não existe essa Task')\n",
    "            return False\n",
    "    \n",
    "    def removeTaksById(self, id):\n",
    "        if self.existId(id):\n",
    "            self._tasks.pop(id)\n",
    "        else:\n",
    "            print('Não existe essa Task')\n",
    "    \n",
    "    # def alterTaskById(self, id):\n",
    "    #     #{self._dt_created}, {self._title}, {self._task_description}, {self._dt_deliver}\n",
    "\n",
    "    #     if self.existId(id):\n",
    "    #         task = self.getTaskById(id)\n",
    "    #         print(task)\n",
    "        \n",
    "        \n",
    "\n",
    "    def __str__(self):\n",
    "        \n",
    "        return f'{self._tasks}'\n",
    "\n",
    "\n"
   ]
  },
  {
   "cell_type": "code",
   "execution_count": 141,
   "metadata": {},
   "outputs": [
    {
     "name": "stdout",
     "output_type": "stream",
     "text": [
      "['id_task: default', 'dt_created: 2023-07-20', 'title: Limpar o Quarto', 'task_description: Arrumar as roupas do gabideiro e tirar a tela da mesa e arrumar os fios', 'dt_deliver: 2023-07-21']\n"
     ]
    }
   ],
   "source": [
    "taskOne = Task()\n",
    "\n",
    "taskOne.setDate('2023-07-20')\n",
    "taskOne.setTitle('Limpar o Quarto')\n",
    "taskOne.setTaskDescription('Arrumar as roupas do gabideiro e tirar a tela da mesa e arrumar os fios')\n",
    "taskOne.setDeliverDate('2023-07-21')\n",
    "print(taskOne.getTask())"
   ]
  },
  {
   "cell_type": "code",
   "execution_count": 142,
   "metadata": {},
   "outputs": [
    {
     "name": "stdout",
     "output_type": "stream",
     "text": [
      "{'default': <__main__.Task object at 0x00000254D88C5820>}\n"
     ]
    }
   ],
   "source": [
    "banco = Data()\n",
    "\n",
    "banco.addTask(taskOne)\n",
    "\n",
    "print(banco)"
   ]
  },
  {
   "cell_type": "code",
   "execution_count": 143,
   "metadata": {},
   "outputs": [
    {
     "name": "stdout",
     "output_type": "stream",
     "text": [
      "{'default': <__main__.Task object at 0x00000254D88C5820>, 2: <__main__.Task object at 0x00000254D88E5520>}\n"
     ]
    }
   ],
   "source": [
    "\n",
    "\n",
    "taskTwo = Task(2, '2023-07-22', 'Arrumar Cozinha', 'Lavar a louça e guardar os pratos e talheres', '2023-07-23')\n",
    "\n",
    "#print(taskTwo.getTask())\n",
    "banco.addTask(taskTwo)\n",
    "print(banco)"
   ]
  },
  {
   "cell_type": "code",
   "execution_count": 149,
   "metadata": {},
   "outputs": [
    {
     "name": "stdout",
     "output_type": "stream",
     "text": [
      "2, 2023-07-22, Arrumar Cozinha, Lavar a louça e guardar os pratos e talheres, 2023-07-23\n",
      "2, 2023-07-22, Mudei o titulo, Lavar a louça e guardar os pratos e talheres, 2023-07-23\n"
     ]
    }
   ],
   "source": [
    "print(taskTwo)\n",
    "taskTwo.setTitle('Mudei o titulo')\n",
    "print(taskTwo)"
   ]
  },
  {
   "cell_type": "code",
   "execution_count": 144,
   "metadata": {},
   "outputs": [
    {
     "name": "stdout",
     "output_type": "stream",
     "text": [
      "2, 2023-07-22, Arrumar Cozinha, Lavar a louça e guardar os pratos e talheres, 2023-07-23\n",
      "None\n"
     ]
    }
   ],
   "source": [
    "print(banco.alterTaskById(2))"
   ]
  },
  {
   "cell_type": "code",
   "execution_count": 136,
   "metadata": {},
   "outputs": [
    {
     "name": "stdout",
     "output_type": "stream",
     "text": [
      "2, 2023-07-22, Arrumar Cozinha, Lavar a louça e guardar os pratos e talheres, 2023-07-23\n"
     ]
    }
   ],
   "source": [
    "#print(banco)\n",
    "print(banco.getTaskById(2))\n",
    "#print(banco)"
   ]
  },
  {
   "cell_type": "code",
   "execution_count": 139,
   "metadata": {},
   "outputs": [
    {
     "name": "stdout",
     "output_type": "stream",
     "text": [
      "{'default': <__main__.Task object at 0x00000254D88D0790>}\n"
     ]
    }
   ],
   "source": [
    "banco.removeTaksByID(2)\n",
    "print(banco)"
   ]
  },
  {
   "cell_type": "code",
   "execution_count": 121,
   "metadata": {},
   "outputs": [
    {
     "name": "stdout",
     "output_type": "stream",
     "text": [
      "não existe\n",
      "não existe\n",
      "não existe\n"
     ]
    }
   ],
   "source": [
    "meu_dicionario = {'chave1': 'valor1', 'chave2': 'valor2', 'chave3': 'valor3'}\n",
    "\n",
    "for key in meu_dicionario.keys():\n",
    "    if 'd' == key:\n",
    "        print('existe')\n",
    "        return True\n",
    "        break \n",
    "\n",
    "    else:\n",
    "        print('não existe')"
   ]
  }
 ],
 "metadata": {
  "kernelspec": {
   "display_name": "Python 3",
   "language": "python",
   "name": "python3"
  },
  "language_info": {
   "codemirror_mode": {
    "name": "ipython",
    "version": 3
   },
   "file_extension": ".py",
   "mimetype": "text/x-python",
   "name": "python",
   "nbconvert_exporter": "python",
   "pygments_lexer": "ipython3",
   "version": "3.8.3"
  },
  "orig_nbformat": 4
 },
 "nbformat": 4,
 "nbformat_minor": 2
}
