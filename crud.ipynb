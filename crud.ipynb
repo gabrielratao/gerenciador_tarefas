{
 "cells": [
  {
   "cell_type": "code",
   "execution_count": null,
   "metadata": {},
   "outputs": [],
   "source": []
  },
  {
   "cell_type": "code",
   "execution_count": 13,
   "metadata": {},
   "outputs": [],
   "source": [
    "class Task():\n",
    "\n",
    "    def __init__(self, id_task = \"default\", dt_created = \"yyyy-mm-dd\", title = \"title\", task_description = \"description\", dt_deliver = \"yyyy-mm-dd\"):\n",
    "\n",
    "        self.__id_task = id_task\n",
    "        self._dt_created = dt_created\n",
    "        self._title = title\n",
    "        self._task_description = task_description\n",
    "        self._dt_deliver = dt_deliver\n",
    "\n",
    "    def getTask(self):\n",
    "        print(\"Listando os dados da task\")\n",
    "        listagem = [f'id_task: {self.__id_task}', \n",
    "                    f'dt_created: {self._dt_created}', \n",
    "                    f'title: {self._title}', \n",
    "                    f'task_description: {self._task_description}', \n",
    "                    f'dt_deliver: {self._dt_deliver}']\n",
    "        return listagem\n",
    "\n",
    "    def setDate(self, date):\n",
    "        self._dt_created = date\n",
    "    \n",
    "    def setTitle(self, text):\n",
    "        self._title = text\n",
    "    \n",
    "    def setTaskDescription(self, description):\n",
    "        self._task_description = description\n",
    "    \n",
    "    def setDeliverDate(self, date):\n",
    "        self._dt_deliver = date\n",
    "    \n",
    "    \n",
    "\n",
    "\n",
    "\n",
    "\n"
   ]
  },
  {
   "cell_type": "code",
   "execution_count": 14,
   "metadata": {},
   "outputs": [
    {
     "name": "stdout",
     "output_type": "stream",
     "text": [
      "Listando os dados da task\n",
      "['id_task: default', 'dt_created: 2023-07-20', 'title: Limpar o Quarto', 'task_description: Arrumar as roupas do gabideiro e tirar a tela da mesa e arrumar os fios', 'dt_deliver: 2023-07-21']\n"
     ]
    }
   ],
   "source": [
    "taskOne = Task()\n",
    "\n",
    "taskOne.setDate('2023-07-20')\n",
    "taskOne.setTitle('Limpar o Quarto')\n",
    "taskOne.setTaskDescription('Arrumar as roupas do gabideiro e tirar a tela da mesa e arrumar os fios')\n",
    "taskOne.setDeliverDate('2023-07-21')\n",
    "print(taskOne.getTask())"
   ]
  }
 ],
 "metadata": {
  "kernelspec": {
   "display_name": "Python 3",
   "language": "python",
   "name": "python3"
  },
  "language_info": {
   "codemirror_mode": {
    "name": "ipython",
    "version": 3
   },
   "file_extension": ".py",
   "mimetype": "text/x-python",
   "name": "python",
   "nbconvert_exporter": "python",
   "pygments_lexer": "ipython3",
   "version": "3.8.3"
  },
  "orig_nbformat": 4
 },
 "nbformat": 4,
 "nbformat_minor": 2
}
